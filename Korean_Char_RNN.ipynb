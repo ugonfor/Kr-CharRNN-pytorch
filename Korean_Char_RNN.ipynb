{
  "nbformat": 4,
  "nbformat_minor": 0,
  "metadata": {
    "colab": {
      "name": "Korean-Char-RNN.ipynb",
      "provenance": [],
      "toc_visible": true,
      "authorship_tag": "ABX9TyOvy7OMnphThaxdNq8ZntMl",
      "include_colab_link": true
    },
    "kernelspec": {
      "name": "python3",
      "display_name": "Python 3"
    }
  },
  "cells": [
    {
      "cell_type": "markdown",
      "metadata": {
        "id": "view-in-github",
        "colab_type": "text"
      },
      "source": [
        "<a href=\"https://colab.research.google.com/github/ugonfor/Kr-CharRNN-pytorch/blob/main/Korean_Char_RNN.ipynb\" target=\"_parent\"><img src=\"https://colab.research.google.com/assets/colab-badge.svg\" alt=\"Open In Colab\"/></a>"
      ]
    },
    {
      "cell_type": "markdown",
      "metadata": {
        "id": "NfyqZkiCqbhb"
      },
      "source": [
        "# **Korean Char RNN**\n",
        "Char RNN for **Hangul**(Korean Letter) implemented in Pytorch.\n",
        "\n",
        "I use [hangul-toolkit](https://github.com/bluedisk/hangul-toolkit) to parse the hangul. Then, I embedding the hangul as a vector.\n"
      ]
    },
    {
      "cell_type": "markdown",
      "metadata": {
        "id": "jA6KwuWFxapM"
      },
      "source": [
        "## Training Data\n",
        "데이터셋으로는 소나기(황순원)을 사용하였습니다.\n",
        "구글링을 해보면 쉽게 구할 수 있습니다.\n",
        "\n"
      ]
    },
    {
      "cell_type": "markdown",
      "metadata": {
        "id": "oO7dFVMHrjqx"
      },
      "source": [
        "##Module\n",
        "한글을 문자단위 RNN을 할 때는 영어와 바르게 한글의 경우 자모가 있기에, 자음 모음 단위로 Char RNN을 생성하는 것이 맞다고 생각했습니다.\n",
        "\n",
        "Github에 찾아보면 한글 텍스트를 자음모음으로 분리해주는 프로젝트를 찾아볼 수 있고, 저는 hangul-toolkit을 사용하였습니다.\n"
      ]
    },
    {
      "cell_type": "code",
      "metadata": {
        "colab": {
          "base_uri": "https://localhost:8080/"
        },
        "id": "zzSt2QLVo2nT",
        "outputId": "08475d06-32fb-4a8b-d85d-ac07f44db1e4"
      },
      "source": [
        "!pip install hgtk"
      ],
      "execution_count": null,
      "outputs": [
        {
          "output_type": "stream",
          "text": [
            "Collecting hgtk\n",
            "  Downloading https://files.pythonhosted.org/packages/79/04/04758ed8c086fb1d9a5a267f90239533d33dbc1646ac32f8bf80e38b0ec7/hgtk-0.1.3.tar.gz\n",
            "Building wheels for collected packages: hgtk\n",
            "  Building wheel for hgtk (setup.py) ... \u001b[?25l\u001b[?25hdone\n",
            "  Created wheel for hgtk: filename=hgtk-0.1.3-py2.py3-none-any.whl size=6689 sha256=1286b545ea45319dd491e84d617c7604ca3ee72a5ce6057310279fdd29612085\n",
            "  Stored in directory: /root/.cache/pip/wheels/73/72/06/6065a57fe68264f35d7e52e37f56831eb3e9ec75656880de20\n",
            "Successfully built hgtk\n",
            "Installing collected packages: hgtk\n",
            "Successfully installed hgtk-0.1.3\n"
          ],
          "name": "stdout"
        }
      ]
    },
    {
      "cell_type": "code",
      "metadata": {
        "id": "84MQdkjerLJp"
      },
      "source": [
        "import torch\n",
        "import torch.nn as nn\n",
        "import torch.optim as optim\n",
        "import numpy as np\n",
        "\n",
        "import hgtk\n"
      ],
      "execution_count": null,
      "outputs": []
    },
    {
      "cell_type": "code",
      "metadata": {
        "id": "4T8xUwkE3knf"
      },
      "source": [
        ""
      ],
      "execution_count": null,
      "outputs": []
    },
    {
      "cell_type": "code",
      "metadata": {
        "id": "j0WqLvFkripj"
      },
      "source": [
        ""
      ],
      "execution_count": null,
      "outputs": []
    }
  ]
}